{
 "cells": [
  {
   "cell_type": "code",
   "execution_count": 4,
   "metadata": {},
   "outputs": [],
   "source": [
    "import json\n",
    "import re\n",
    "import threading\n",
    "import requests"
   ]
  },
  {
   "cell_type": "code",
   "execution_count": 21,
   "metadata": {},
   "outputs": [],
   "source": [
    "def query(url, query=\"\") -> requests.Response:\n",
    "    res = requests.post(url, json={\"query\":query}, allow_redirects=False)\n",
    "    return res\n",
    "\n",
    "def isGraphql(url) -> bool:\n",
    "    # Test if json is returned for __typname query\n",
    "    res = query(url, \"query{__typename}\")\n",
    "    if res.status_code != 200:\n",
    "        return False\n",
    "    \n",
    "    if not \"application/json\" in res.headers['content-type']:\n",
    "        return False\n",
    "    \n",
    "    if bool(re.match(\".+(data|errors|__schema|__typename).+\", res.text)):\n",
    "        return True\n",
    "    else:\n",
    "        return False\n"
   ]
  },
  {
   "cell_type": "code",
   "execution_count": 22,
   "metadata": {},
   "outputs": [
    {
     "name": "stdout",
     "output_type": "stream",
     "text": [
      "graphql\n",
      " :  True\n",
      "api/graphql\n",
      " :  True\n",
      "je/graphql\n",
      " :  True\n",
      "graph\n",
      " :  False\n",
      "v1/graphql\n",
      " :  True\n",
      "v1/api/graphql\n",
      " :  True\n",
      "v1/graph\n",
      " :  False\n",
      "v2/graphql\n",
      " :  True\n",
      "v2/api/graphql\n",
      " :  True\n",
      "v2/graph\n",
      " :  False\n",
      "v3/graphql\n",
      " :  True\n",
      "v3/api/graphql\n",
      " :  True\n",
      "v3/graph\n",
      " :  False\n",
      "v4/graphql\n",
      " :  True\n",
      "v4/api/graphql\n",
      " :  True\n",
      "v4/graph\n",
      " :  False\n",
      "graphql/dev\n",
      " :  False\n",
      "dev/graphql\n",
      " :  True\n",
      "production/graphql\n",
      " :  True\n",
      "graphql/production\n",
      " :  False\n",
      "test/graphql\n",
      " :  True\n",
      "graphql/test :  False\n"
     ]
    }
   ],
   "source": [
    "with open(\"../wordlists/directories.txt\", \"r\") as file:\n",
    "    for path in file.readlines():\n",
    "        print(path, \": \", isGraphql(f\"https://graph.linktr.ee/{path.strip()}\"))"
   ]
  },
  {
   "cell_type": "code",
   "execution_count": null,
   "metadata": {},
   "outputs": [],
   "source": []
  }
 ],
 "metadata": {
  "kernelspec": {
   "display_name": "Python 3",
   "language": "python",
   "name": "python3"
  },
  "language_info": {
   "codemirror_mode": {
    "name": "ipython",
    "version": 3
   },
   "file_extension": ".py",
   "mimetype": "text/x-python",
   "name": "python",
   "nbconvert_exporter": "python",
   "pygments_lexer": "ipython3",
   "version": "3.8.5"
  }
 },
 "nbformat": 4,
 "nbformat_minor": 2
}
