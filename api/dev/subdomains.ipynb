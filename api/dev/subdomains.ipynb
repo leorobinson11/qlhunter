{
 "cells": [
  {
   "cell_type": "code",
   "execution_count": null,
   "metadata": {},
   "outputs": [],
   "source": [
    "from bs4 import BeautifulSoup\n",
    "import requests"
   ]
  },
  {
   "cell_type": "code",
   "execution_count": null,
   "metadata": {},
   "outputs": [],
   "source": [
    "domain = \"moralismoney.com\"\n",
    "res = requests.get(f\"https://crt.sh/?q={domain}\")\n",
    "soup = BeautifulSoup(res.text, \"html.parser\")\n",
    "\n",
    "table = soup.find_all(\"table\")[1]\n",
    "rows = table.find_all(\"tr\")\n",
    "subdomains = []\n",
    "for row in rows:\n",
    "    cells = row.find_all(\"td\")\n",
    "    if len(cells) == 7:\n",
    "        subdomain = cells[4].text.replace('*.', '')\n",
    "        if domain in subdomain and not subdomain in subdomains:\n",
    "            subdomains.append(subdomain)"
   ]
  }
 ],
 "metadata": {
  "kernelspec": {
   "display_name": "Python 3",
   "language": "python",
   "name": "python3"
  },
  "language_info": {
   "codemirror_mode": {
    "name": "ipython",
    "version": 3
   },
   "file_extension": ".py",
   "mimetype": "text/x-python",
   "name": "python",
   "nbconvert_exporter": "python",
   "pygments_lexer": "ipython3",
   "version": "3.9.6"
  }
 },
 "nbformat": 4,
 "nbformat_minor": 2
}
